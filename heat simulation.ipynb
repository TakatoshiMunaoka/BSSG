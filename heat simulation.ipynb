{
 "cells": [
  {
   "cell_type": "code",
   "execution_count": 109,
   "metadata": {},
   "outputs": [],
   "source": [
    "import pandas as pd\n",
    "import numpy as np\n",
    "import math\n",
    "import matplotlib.pyplot as plt"
   ]
  },
  {
   "cell_type": "code",
   "execution_count": 110,
   "metadata": {},
   "outputs": [],
   "source": [
    "df = pd.read_excel(\"/Users/Takatoshi/Desktop/BSSG/data/heat sim.xlsx\")"
   ]
  },
  {
   "cell_type": "code",
   "execution_count": 142,
   "metadata": {},
   "outputs": [
    {
     "data": {
      "text/html": [
       "<div>\n",
       "<style scoped>\n",
       "    .dataframe tbody tr th:only-of-type {\n",
       "        vertical-align: middle;\n",
       "    }\n",
       "\n",
       "    .dataframe tbody tr th {\n",
       "        vertical-align: top;\n",
       "    }\n",
       "\n",
       "    .dataframe thead th {\n",
       "        text-align: right;\n",
       "    }\n",
       "</style>\n",
       "<table border=\"1\" class=\"dataframe\">\n",
       "  <thead>\n",
       "    <tr style=\"text-align: right;\">\n",
       "      <th></th>\n",
       "      <th>DOD</th>\n",
       "      <th>DCR</th>\n",
       "      <th>entropy change</th>\n",
       "      <th>temperature</th>\n",
       "    </tr>\n",
       "  </thead>\n",
       "  <tbody>\n",
       "    <tr>\n",
       "      <th>0</th>\n",
       "      <td>0</td>\n",
       "      <td>132.0</td>\n",
       "      <td>-10.0</td>\n",
       "      <td>32.1</td>\n",
       "    </tr>\n",
       "    <tr>\n",
       "      <th>1</th>\n",
       "      <td>10</td>\n",
       "      <td>137.0</td>\n",
       "      <td>-13.8</td>\n",
       "      <td>43.6</td>\n",
       "    </tr>\n",
       "    <tr>\n",
       "      <th>2</th>\n",
       "      <td>20</td>\n",
       "      <td>142.0</td>\n",
       "      <td>-2.5</td>\n",
       "      <td>53.6</td>\n",
       "    </tr>\n",
       "    <tr>\n",
       "      <th>3</th>\n",
       "      <td>30</td>\n",
       "      <td>142.0</td>\n",
       "      <td>-11.3</td>\n",
       "      <td>62.9</td>\n",
       "    </tr>\n",
       "    <tr>\n",
       "      <th>4</th>\n",
       "      <td>40</td>\n",
       "      <td>142.0</td>\n",
       "      <td>-17.5</td>\n",
       "      <td>68.6</td>\n",
       "    </tr>\n",
       "    <tr>\n",
       "      <th>5</th>\n",
       "      <td>50</td>\n",
       "      <td>142.0</td>\n",
       "      <td>-21.3</td>\n",
       "      <td>75.0</td>\n",
       "    </tr>\n",
       "    <tr>\n",
       "      <th>6</th>\n",
       "      <td>60</td>\n",
       "      <td>142.0</td>\n",
       "      <td>-25.0</td>\n",
       "      <td>80.7</td>\n",
       "    </tr>\n",
       "    <tr>\n",
       "      <th>7</th>\n",
       "      <td>70</td>\n",
       "      <td>142.0</td>\n",
       "      <td>-40.0</td>\n",
       "      <td>85.7</td>\n",
       "    </tr>\n",
       "    <tr>\n",
       "      <th>8</th>\n",
       "      <td>80</td>\n",
       "      <td>142.0</td>\n",
       "      <td>-60.0</td>\n",
       "      <td>90.7</td>\n",
       "    </tr>\n",
       "    <tr>\n",
       "      <th>9</th>\n",
       "      <td>90</td>\n",
       "      <td>163.0</td>\n",
       "      <td>-63.8</td>\n",
       "      <td>95.7</td>\n",
       "    </tr>\n",
       "    <tr>\n",
       "      <th>10</th>\n",
       "      <td>100</td>\n",
       "      <td>NaN</td>\n",
       "      <td>-67.5</td>\n",
       "      <td>NaN</td>\n",
       "    </tr>\n",
       "  </tbody>\n",
       "</table>\n",
       "</div>"
      ],
      "text/plain": [
       "    DOD    DCR  entropy change  temperature\n",
       "0     0  132.0           -10.0         32.1\n",
       "1    10  137.0           -13.8         43.6\n",
       "2    20  142.0            -2.5         53.6\n",
       "3    30  142.0           -11.3         62.9\n",
       "4    40  142.0           -17.5         68.6\n",
       "5    50  142.0           -21.3         75.0\n",
       "6    60  142.0           -25.0         80.7\n",
       "7    70  142.0           -40.0         85.7\n",
       "8    80  142.0           -60.0         90.7\n",
       "9    90  163.0           -63.8         95.7\n",
       "10  100    NaN           -67.5          NaN"
      ]
     },
     "execution_count": 142,
     "metadata": {},
     "output_type": "execute_result"
    }
   ],
   "source": [
    "df"
   ]
  },
  {
   "cell_type": "code",
   "execution_count": 112,
   "metadata": {},
   "outputs": [],
   "source": [
    "cap = 1.8 # cell capacity(Ah)\n",
    "i = 5.4   # current(A)\n",
    "f = 96485 # Faraday constant(C/mol)\n",
    "rT = 32.1 # room temperature(degree Celsius)\n",
    "trans_coeff = 13 # heat transfer coefficient(W/m2K)\n",
    "heat_cap = 40      # heat capacity(J/K)"
   ]
  },
  {
   "cell_type": "code",
   "execution_count": 113,
   "metadata": {},
   "outputs": [],
   "source": [
    "df_Tdiff = df[\"temperature\"]-rT # difference btw cell temp. - room temp.\n",
    "sa = ((9*9*math.pi*2)+(65*18*math.pi))/(10**6) # surface area(m2)\n",
    "trans = sa * trans_coeff\n",
    "df_t = 1/(i/cap)*3600*df[\"DOD\"]/100 # time at each DOD"
   ]
  },
  {
   "cell_type": "code",
   "execution_count": 114,
   "metadata": {},
   "outputs": [],
   "source": [
    "df_dt = np.roll(df_t, 0) - np.roll(df_t, 1) \n",
    "df_dt[0] = 0"
   ]
  },
  {
   "cell_type": "code",
   "execution_count": 115,
   "metadata": {},
   "outputs": [],
   "source": [
    "q_DCR = np.roll(df[\"DCR\"]*(i**2)/1000, 1)\n",
    "q_DCR[0] = 0\n",
    "\n",
    "q_S = np.roll(-df[\"entropy change\"]*(df[\"temperature\"]+273)*i/f, 1)\n",
    "q_S[0] = 0\n",
    "\n",
    "q_rad = -np.roll(df_Tdiff, 1) * trans\n",
    "q_rad[0] = 0"
   ]
  },
  {
   "cell_type": "code",
   "execution_count": 116,
   "metadata": {},
   "outputs": [],
   "source": [
    "df_dT_DCR = q_DCR * df_dt / heat_cap\n",
    "df_T_DCR = df_dT_DCR\n",
    "for i in range(len(df_dT_DCR)-1):\n",
    "    df_T_DCR[i+1] = df_T_DCR[i] +df_dT_DCR[i+1]\n",
    "    \n",
    "df_dT_S = q_S * df_dt / heat_cap\n",
    "df_T_S = df_dT_S\n",
    "for i in range(len(df_dT_S)-1):\n",
    "    df_T_S[i+1] = df_T_S[i] +df_dT_S[i+1]\n",
    "    \n",
    "df_dT_rad = q_rad * df_dt / heat_cap\n",
    "df_T_rad = df_dT_rad\n",
    "for i in range(len(df_dT_rad)-1):\n",
    "    df_T_rad[i+1] = df_T_rad[i] +df_dT_rad[i+1]"
   ]
  },
  {
   "cell_type": "code",
   "execution_count": 117,
   "metadata": {},
   "outputs": [],
   "source": [
    "df_T = df_T_DCR + df_T_S + df_T_rad"
   ]
  },
  {
   "cell_type": "code",
   "execution_count": 149,
   "metadata": {},
   "outputs": [
    {
     "data": {
      "image/png": "[encoded data removed]",
      "text/plain": [
       "<Figure size 432x360 with 1 Axes>"
      ]
     },
     "metadata": {},
     "output_type": "display_data"
    }
   ],
   "source": [
    "plt.figure(figsize=(6, 5))\n",
    "\n",
    "plt.plot(df[\"DOD\"], df_T_DCR, color=\"red\", linestyle=\"dotted\", marker=\".\", label=\"resistance\")\n",
    "plt.plot(df[\"DOD\"], df_T_S, color=\"green\", linestyle=\"dotted\", marker=\".\", label=\"entropy change\")\n",
    "plt.plot(df[\"DOD\"], df_T_rad, color=\"blue\", linestyle=\"dotted\", marker=\".\", label=\"heat transfer\")\n",
    "plt.plot(df[\"DOD\"], df_T, color=\"black\", linestyle=\"dotted\", marker=\".\", label=\"simulation\")\n",
    "plt.plot(df[\"DOD\"], df[\"temperature\"]-rT, color=\"black\", linestyle=\"solid\", label=\"experiment\")\n",
    "\n",
    "plt.title(\"heat element separation\")\n",
    "plt.ylabel(\"delta T ($^o$C)\")\n",
    "plt.xlabel(\"DOD (%)\")\n",
    "plt.ylim(-100, 150)\n",
    "plt.xlim(-5, 120)\n",
    "plt.legend()\n",
    "plt.tight_layout()\n",
    "\n",
    "plt.show()"
   ]
  },
  {
   "cell_type": "code",
   "execution_count": null,
   "metadata": {},
   "outputs": [],
   "source": []
  }
 ],
 "metadata": {
  "kernelspec": {
   "display_name": "Python 3",
   "language": "python",
   "name": "python3"
  },
  "language_info": {
   "codemirror_mode": {
    "name": "ipython",
    "version": 3
   },
   "file_extension": ".py",
   "mimetype": "text/x-python",
   "name": "python",
   "nbconvert_exporter": "python",
   "pygments_lexer": "ipython3",
   "version": "3.6.5"
  }
 },
 "nbformat": 4,
 "nbformat_minor": 2
}
